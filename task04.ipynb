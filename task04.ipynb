{
 "cells": [
  {
   "cell_type": "code",
   "execution_count": 1,
   "id": "97ea9484-a4e1-4bc1-867a-8ab656deeb1e",
   "metadata": {
    "scrolled": true
   },
   "outputs": [],
   "source": [
    " # !pip install mediapipe opencv-python"
   ]
  },
  {
   "cell_type": "code",
   "execution_count": 2,
   "id": "e3b2bd15-bd5a-4afb-aaff-ec7672171417",
   "metadata": {},
   "outputs": [],
   "source": [
    "import mediapipe as mp\n",
    "import cv2 \n",
    "import numpy as np\n",
    "import uuid\n",
    "import os"
   ]
  },
  {
   "cell_type": "code",
   "execution_count": 3,
   "id": "34799864-b274-4935-b353-1abf0c357d8d",
   "metadata": {},
   "outputs": [],
   "source": [
    "mp_drawing = mp.solutions.drawing_utils"
   ]
  },
  {
   "cell_type": "code",
   "execution_count": 4,
   "id": "083b63af-8131-4244-a97c-b9fe3728c066",
   "metadata": {},
   "outputs": [],
   "source": [
    "mp_hands = mp.solutions.hands"
   ]
  },
  {
   "cell_type": "code",
   "execution_count": 8,
   "id": "6d3d7e39-367e-48f4-909d-e2d9a144ba1e",
   "metadata": {},
   "outputs": [],
   "source": [
    "cap = cv2.VideoCapture(0)\n",
    "\n",
    "# Set up frame processing counter\n",
    "frame_count = 0\n",
    "process_every_n_frame = 5  # Process every 5th frame\n",
    "\n",
    "with mp_hands.Hands(min_detection_confidence=0.5, min_tracking_confidence=0.7) as hands:\n",
    "    while cap.isOpened():\n",
    "        ret, frame = cap.read()\n",
    "        if not ret:\n",
    "            break\n",
    "        \n",
    "        # Resize frame to reduce processing load\n",
    "        frame = cv2.resize(frame, (640, 480))\n",
    "\n",
    "        # Convert BGR to RGB for MediaPipe\n",
    "        image = cv2.cvtColor(frame, cv2.COLOR_BGR2RGB)\n",
    "        image.flags.writeable = False\n",
    "\n",
    "        image = cv2.flip(image, 1)\n",
    "\n",
    "        # Process only every nth frame to reduce load\n",
    "        if frame_count % process_every_n_frame == 0:\n",
    "            results = hands.process(image)\n",
    "            frame_count = 0  # Reset frame counter after processing\n",
    "\n",
    "        image.flags.writeable = True\n",
    "        image = cv2.cvtColor(image, cv2.COLOR_RGB2BGR)\n",
    "        \n",
    "        # Optional: Draw hand landmarks if detected\n",
    "        if results.multi_hand_landmarks:\n",
    "            for hand_landmarks in results.multi_hand_landmarks:\n",
    "                mp_drawing.draw_landmarks(image, hand_landmarks, mp_hands.HAND_CONNECTIONS)\n",
    "\n",
    "        # Display the processed frame\n",
    "        cv2.imshow('Hand Tracking', image)\n",
    "        \n",
    "        frame_count += 1  # Increment frame counter\n",
    "        \n",
    "        if cv2.waitKey(10) & 0xFF == ord('q'):\n",
    "            break\n",
    "\n",
    "# Release the webcam and destroy all windows\n",
    "cap.release()\n",
    "cv2.destroyAllWindows()"
   ]
  },
  {
   "cell_type": "code",
   "execution_count": 6,
   "id": "e5f9455b-0c39-4939-976c-4e4f84e54940",
   "metadata": {},
   "outputs": [],
   "source": [
    "cap = cv2.VideoCapture(0)"
   ]
  },
  {
   "cell_type": "code",
   "execution_count": 7,
   "id": "43ea6334-8f15-4a5b-a17e-b38a39066a69",
   "metadata": {},
   "outputs": [],
   "source": [
    "# Start hand detection and gesture recognition\n",
    "with mp_hands.Hands(min_detection_confidence=0.5, min_tracking_confidence=0.7) as hands:\n",
    "    while cap.isOpened():\n",
    "        ret, frame = cap.read()\n",
    "        if not ret:\n",
    "            break\n",
    "        \n",
    "        # Convert BGR to RGB for MediaPipe\n",
    "        image = cv2.cvtColor(frame, cv2.COLOR_BGR2RGB)\n",
    "        image.flags.writeable = False\n",
    "\n",
    "        # Detect hand landmarks\n",
    "        results = hands.process(image)\n",
    "\n",
    "        image.flags.writeable = True\n",
    "        image = cv2.cvtColor(image, cv2.COLOR_RGB2BGR)\n",
    "\n",
    "        # Recognize gestures\n",
    "        gesture = \"Unknown\"\n",
    "        if results.multi_hand_landmarks:\n",
    "            for hand_landmarks in results.multi_hand_landmarks:\n",
    "                mp_drawing.draw_landmarks(image, hand_landmarks, mp_hands.HAND_CONNECTIONS)\n",
    "\n",
    "                # Extract landmark positions\n",
    "                thumb_tip = hand_landmarks.landmark[mp_hands.HandLandmark.THUMB_TIP]\n",
    "                index_finger_tip = hand_landmarks.landmark[mp_hands.HandLandmark.INDEX_FINGER_TIP]\n",
    "                middle_finger_tip = hand_landmarks.landmark[mp_hands.HandLandmark.MIDDLE_FINGER_TIP]\n",
    "                ring_finger_tip = hand_landmarks.landmark[mp_hands.HandLandmark.RING_FINGER_TIP]\n",
    "                pinky_tip = hand_landmarks.landmark[mp_hands.HandLandmark.PINKY_TIP]\n",
    "\n",
    "                # Gesture: Thumbs Up\n",
    "                if thumb_tip.y < index_finger_tip.y:\n",
    "                    gesture = \"Thumbs Up\"\n",
    "                \n",
    "                # Gesture: Open Hand (all fingers extended)\n",
    "                elif (index_finger_tip.y < middle_finger_tip.y < ring_finger_tip.y < pinky_tip.y):\n",
    "                    gesture = \"Open Hand\"\n",
    "                \n",
    "                # Gesture: Fist (all fingers curled)\n",
    "                elif (index_finger_tip.y > middle_finger_tip.y > ring_finger_tip.y > pinky_tip.y and\n",
    "                      thumb_tip.y > index_finger_tip.y):\n",
    "                    gesture = \"Fist\"\n",
    "                \n",
    "                # Gesture: Victory (Peace Sign - index and middle fingers up)\n",
    "                elif (index_finger_tip.y < thumb_tip.y and middle_finger_tip.y < thumb_tip.y and\n",
    "                      ring_finger_tip.y > middle_finger_tip.y and pinky_tip.y > ring_finger_tip.y):\n",
    "                    gesture = \"Victory\"\n",
    "                \n",
    "                # Gesture: Pointing (Index Finger Up)\n",
    "                elif (index_finger_tip.y < thumb_tip.y and \n",
    "                      middle_finger_tip.y > index_finger_tip.y and \n",
    "                      ring_finger_tip.y > middle_finger_tip.y and \n",
    "                      pinky_tip.y > ring_finger_tip.y):\n",
    "                    gesture = \"Pointing\"\n",
    "\n",
    "        # Display detected gesture\n",
    "        cv2.putText(image, f'Gesture: {gesture}', (10, 50), cv2.FONT_HERSHEY_SIMPLEX, 1, (0, 255, 0), 2, cv2.LINE_AA)\n",
    "\n",
    "        # Show the output\n",
    "        cv2.imshow('Hand Gesture Recognition', image)\n",
    "\n",
    "        # Exit the loop if 'q' is pressed\n",
    "        if cv2.waitKey(10) & 0xFF == ord('q'):\n",
    "            break\n",
    "\n",
    "# Release the webcam and close windows\n",
    "cap.release()\n",
    "cv2.destroyAllWindows()\n"
   ]
  },
  {
   "cell_type": "code",
   "execution_count": null,
   "id": "20883692-a02a-470a-a67b-45681f83e14f",
   "metadata": {},
   "outputs": [],
   "source": []
  }
 ],
 "metadata": {
  "kernelspec": {
   "display_name": "Python 3.10 (py310)",
   "language": "python",
   "name": "py310"
  },
  "language_info": {
   "codemirror_mode": {
    "name": "ipython",
    "version": 3
   },
   "file_extension": ".py",
   "mimetype": "text/x-python",
   "name": "python",
   "nbconvert_exporter": "python",
   "pygments_lexer": "ipython3",
   "version": "3.12.4"
  }
 },
 "nbformat": 4,
 "nbformat_minor": 5
}
